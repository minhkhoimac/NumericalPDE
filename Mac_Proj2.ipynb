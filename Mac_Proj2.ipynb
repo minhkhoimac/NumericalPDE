{
 "cells": [
  {
   "cell_type": "markdown",
   "metadata": {},
   "source": [
    "# Imports"
   ]
  },
  {
   "cell_type": "code",
   "execution_count": 2,
   "metadata": {},
   "outputs": [],
   "source": [
    "import numpy as np\n",
    "import matplotlib.pyplot as plt\n",
    "import scipy.linalg as sci"
   ]
  },
  {
   "cell_type": "markdown",
   "metadata": {},
   "source": [
    "# Definitions"
   ]
  },
  {
   "cell_type": "code",
   "execution_count": 4,
   "metadata": {},
   "outputs": [],
   "source": [
    "### Definitions\n",
    "def flick(t):\n",
    "    if t >= 0 and t <= 2:\n",
    "        return (t * (2 - t)) ** 3\n",
    "    else:\n",
    "        return 0\n",
    "\n",
    "### Length of interval\n",
    "I = 10\n",
    "\n",
    "### dx and dt\n",
    "dx = 1/50\n",
    "dt = 1/100\n",
    "\n",
    "### x range\n",
    "x = np.linspace(1, 11, num = 10 * 50 + 1)\n",
    "\n",
    "### Number of mesh points\n",
    "N = len(x)\n",
    "\n",
    "### d(x) and e(x) (d(x) = e(x) for all cases)\n",
    "def de(case, x):\n",
    "    if case == 0 or case == 1:\n",
    "        return 1\n",
    "    if case == 2:\n",
    "        return x\n",
    "    if case == 3:\n",
    "        return x**2\n"
   ]
  },
  {
   "cell_type": "markdown",
   "metadata": {},
   "source": [
    "# Dealing with M and S matrices"
   ]
  },
  {
   "cell_type": "code",
   "execution_count": 25,
   "metadata": {},
   "outputs": [],
   "source": [
    "### Defining M and S matrices\n",
    "def MS(case):\n",
    "    M = np.zeros((N, N))\n",
    "    S = np.zeros((N, N))\n",
    "    for i in range(1, N):\n",
    "        dx = x[i] - x[i-1]\n",
    "        xmid = (x[i] + x[i-1]) / 2\n",
    "        ### Because d(x) and e(x) are the same for these cases\n",
    "        coef = de(case, xmid)\n",
    "        M[i-1, i-1] += coef * dx / 3\n",
    "        M[i-1, i] = coef * dx / 6\n",
    "        M[i, i-1] = coef * dx / 6\n",
    "        M[i, i] = coef * dx / 3\n",
    "        S[i-1, i-1] += coef / dx\n",
    "        S[i-1, i] = -coef / dx\n",
    "        S[i, i-1] = -coef / dx\n",
    "        S[i, i] = coef / dx\n",
    "    return (M, S)\n",
    "\n",
    "def tridiag(diag_matrix):\n",
    "    diag = np.zeros((3, N))\n",
    "    diag[1, 0] = diag_matrix[0, 0]\n",
    "    diag[2, 0] = diag_matrix[1, 0]\n",
    "    for i in range(1, N):\n",
    "        diag[0, i] = diag_matrix[i-1, i]\n",
    "        diag[1, i] = diag_matrix[i, i]\n",
    "        diag[2, i] = diag_matrix[i, i-1]\n",
    "        if i == N-1:\n",
    "            diag[2,i] = 0\n",
    "    return diag\n",
    "\n",
    "matrix = MS(0)[0]"
   ]
  },
  {
   "cell_type": "markdown",
   "metadata": {},
   "source": [
    "# Iterating"
   ]
  },
  {
   "cell_type": "code",
   "execution_count": 34,
   "metadata": {},
   "outputs": [],
   "source": [
    "def step(M, S, U, V, bc, dt_count):\n",
    "    left = (1/dt) * tridiag(M) + (dt/4) * tridiag(S)\n",
    "    right = np.dot(-1 * S, U + (dt/2) * V)\n",
    "    left[1][0] = 1\n",
    "    dU0 = U[0]\n",
    "    dV0 = V[0]\n",
    "    if bc == \"dirichlet\":\n",
    "        right[-1] = 0\n",
    "        dU0 = flick(dt_count + dt) - flick(dt_count)\n",
    "        dV0 = 2 * (dU0 / dt - V[0])\n",
    "    dV = sci.solve_banded((1,1), left, right)\n",
    "    dU = dt * (V + (1/2) * dV)\n",
    "    U += dU\n",
    "    V += dV\n",
    "    if bc == \"dirichlet\":\n",
    "        U[0] = U[0] - dU[0] + dU0\n",
    "        V[0] = V[0] - dV[0] + dV0\n",
    "    U[0] = flick(dt_count)\n",
    "    return (U, V)\n",
    "\n",
    "def UV(M, S, U, V, stop, bc):\n",
    "    dt_count = dt\n",
    "    while dt_count <= stop:\n",
    "        UV_step = step(M_0, S_0, U, V, bc, dt_count)\n",
    "        U = UV_step[0]\n",
    "        V = UV_step[1]\n",
    "        dt_count += dt\n",
    "    return (U,V)"
   ]
  },
  {
   "cell_type": "markdown",
   "metadata": {},
   "source": [
    "# Case 0"
   ]
  },
  {
   "cell_type": "code",
   "execution_count": 35,
   "metadata": {},
   "outputs": [
    {
     "data": {
      "text/plain": [
       "<matplotlib.legend.Legend at 0x12be53a30>"
      ]
     },
     "execution_count": 35,
     "metadata": {},
     "output_type": "execute_result"
    },
    {
     "data": {
      "image/png": "[encoded data removed]",
      "text/plain": [
       "<Figure size 432x288 with 1 Axes>"
      ]
     },
     "metadata": {
      "needs_background": "light"
     },
     "output_type": "display_data"
    }
   ],
   "source": [
    "### Case 0\n",
    "\n",
    "(M_0, S_0) = MS(0)\n",
    "U = np.zeros(N)\n",
    "V = np.zeros(N)\n",
    "U_0_5 = UV(M_0, S_0, U, V, 5, \"dirichlet\")[0]\n",
    "\n",
    "U = np.zeros(N)\n",
    "V = np.zeros(N)\n",
    "U_0_13 = UV(M_0, S_0, U, V, 13, \"dirichlet\")[0]\n",
    "\n",
    "fig, ax = plt.subplots()\n",
    "ax.set_xlabel('x')\n",
    "ax.set_ylabel('u(x)')\n",
    "ax.set_title('Wave Case 0: d(x) & e(x) = 1, Dirichlet')\n",
    "ax.plot(x, U_0_5, label='t = 5')\n",
    "ax.plot(x, U_0_13, label='t = 13')\n",
    "ax.legend()"
   ]
  },
  {
   "cell_type": "markdown",
   "metadata": {},
   "source": [
    "# Case 1"
   ]
  },
  {
   "cell_type": "code",
   "execution_count": 36,
   "metadata": {},
   "outputs": [
    {
     "data": {
      "text/plain": [
       "<matplotlib.legend.Legend at 0x12bf10430>"
      ]
     },
     "execution_count": 36,
     "metadata": {},
     "output_type": "execute_result"
    },
    {
     "data": {
      "image/png": "[encoded data removed]",
      "text/plain": [
       "<Figure size 432x288 with 1 Axes>"
      ]
     },
     "metadata": {
      "needs_background": "light"
     },
     "output_type": "display_data"
    }
   ],
   "source": [
    "### Case 1\n",
    "\n",
    "(M_1, S_1) = MS(1)\n",
    "U = np.zeros(N)\n",
    "V = np.zeros(N)\n",
    "U_1_5 = UV(M_1, S_1, U, V, 5, \"neumann\")[0]\n",
    "\n",
    "U = np.zeros(N)\n",
    "V = np.zeros(N)\n",
    "U_1_13 = UV(M_1, S_1, U, V, 13, \"neumann\")[0]\n",
    "\n",
    "fig, ax = plt.subplots()\n",
    "ax.set_xlabel('x')\n",
    "ax.set_ylabel('u(x)')\n",
    "ax.set_title('Wave Case 1: d(x) & e(x) = 1, Neumann')\n",
    "ax.plot(x, U_1_5, label='t = 5')\n",
    "ax.plot(x, U_1_13, label='t = 13')\n",
    "ax.legend()"
   ]
  },
  {
   "cell_type": "markdown",
   "metadata": {},
   "source": [
    "# Case 2"
   ]
  },
  {
   "cell_type": "code",
   "execution_count": 37,
   "metadata": {},
   "outputs": [
    {
     "data": {
      "text/plain": [
       "<matplotlib.legend.Legend at 0x12bdf7850>"
      ]
     },
     "execution_count": 37,
     "metadata": {},
     "output_type": "execute_result"
    },
    {
     "data": {
      "image/png": "[encoded data removed]",
      "text/plain": [
       "<Figure size 432x288 with 1 Axes>"
      ]
     },
     "metadata": {
      "needs_background": "light"
     },
     "output_type": "display_data"
    }
   ],
   "source": [
    "### Case 2\n",
    "\n",
    "(M_2, S_2) = MS(2)\n",
    "U = np.zeros(N)\n",
    "V = np.zeros(N)\n",
    "U_2_5 = UV(M_2, S_2, U, V, 5, \"dirichlet\")[0]\n",
    "\n",
    "U = np.zeros(N)\n",
    "V = np.zeros(N)\n",
    "U_2_13 = UV(M_2, S_2, U, V, 13, \"dirichlet\")[0]\n",
    "\n",
    "for i in range(N):\n",
    "    U_2_5[i] *= np.sqrt(x[i])\n",
    "    U_2_13[i] *= np.sqrt(x[i])\n",
    "\n",
    "fig, ax = plt.subplots()\n",
    "ax.set_xlabel('x')\n",
    "ax.set_ylabel('u(x)*sqrt(x)')\n",
    "ax.set_title('Wave Case 2: d(x) & e(x) = x, Dirichlet')\n",
    "ax.plot(x, U_2_5, label='t = 5')\n",
    "ax.plot(x, U_2_13, label='t = 13')\n",
    "ax.legend()"
   ]
  },
  {
   "cell_type": "markdown",
   "metadata": {},
   "source": [
    "# Case 3"
   ]
  },
  {
   "cell_type": "code",
   "execution_count": 38,
   "metadata": {},
   "outputs": [
    {
     "data": {
      "text/plain": [
       "<matplotlib.legend.Legend at 0x12c043c70>"
      ]
     },
     "execution_count": 38,
     "metadata": {},
     "output_type": "execute_result"
    },
    {
     "data": {
      "image/png": "[encoded data removed]",
      "text/plain": [
       "<Figure size 432x288 with 1 Axes>"
      ]
     },
     "metadata": {
      "needs_background": "light"
     },
     "output_type": "display_data"
    }
   ],
   "source": [
    "### Case 3\n",
    "\n",
    "(M_3, S_3) = MS(3)\n",
    "U = np.zeros(N)\n",
    "V = np.zeros(N)\n",
    "U_3_5 = UV(M_3, S_3, U, V, 5, \"dirichlet\")[0]\n",
    "\n",
    "U = np.zeros(N)\n",
    "V = np.zeros(N)\n",
    "U_3_13 = UV(M_3, S_3, U, V, 13, \"dirichlet\")[0]\n",
    "\n",
    "for i in range(N):\n",
    "    U_3_5[i] *= x[i]\n",
    "    U_3_13[i] *= x[i]\n",
    "\n",
    "fig, ax = plt.subplots()\n",
    "ax.set_xlabel('x')\n",
    "ax.set_ylabel('u(x)*x')\n",
    "ax.set_title('Wave Case 3: d(x) & e(x) = x^2, Dirichlet')\n",
    "ax.plot(x, U_3_5, label='t = 5')\n",
    "ax.plot(x, U_3_13, label='t = 13')\n",
    "ax.legend()"
   ]
  }
 ],
 "metadata": {
  "interpreter": {
   "hash": "aee8b7b246df8f9039afb4144a1f6fd8d2ca17a180786b69acc140d282b71a49"
  },
  "kernelspec": {
   "display_name": "Python 3.10.0 64-bit",
   "language": "python",
   "name": "python3"
  },
  "language_info": {
   "codemirror_mode": {
    "name": "ipython",
    "version": 3
   },
   "file_extension": ".py",
   "mimetype": "text/x-python",
   "name": "python",
   "nbconvert_exporter": "python",
   "pygments_lexer": "ipython3",
   "version": "3.10.0"
  },
  "orig_nbformat": 4
 },
 "nbformat": 4,
 "nbformat_minor": 2
}
